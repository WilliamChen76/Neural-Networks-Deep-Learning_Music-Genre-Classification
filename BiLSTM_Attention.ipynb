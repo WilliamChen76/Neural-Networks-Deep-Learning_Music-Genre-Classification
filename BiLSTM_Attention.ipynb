{
 "cells": [
  {
   "cell_type": "code",
   "execution_count": 1,
   "metadata": {},
   "outputs": [],
   "source": [
    "import pandas as pd\n",
    "import torch\n",
    "import torch.nn as nn\n",
    "from torch.utils.data import DataLoader, Dataset\n",
    "from sklearn.model_selection import train_test_split\n",
    "from sklearn.preprocessing import LabelEncoder\n",
    "from sklearn.metrics import classification_report\n",
    "from torch.nn.utils.rnn import pad_sequence\n",
    "from collections import Counter\n",
    "import re\n"
   ]
  },
  {
   "cell_type": "code",
   "execution_count": 2,
   "metadata": {},
   "outputs": [],
   "source": [
    "import pandas as pd\n",
    "import numpy as np\n",
    "import torch\n",
    "import torch.nn as nn\n",
    "import torch.optim as optim\n",
    "from torch.utils.data import Dataset, DataLoader\n",
    "from sklearn.model_selection import train_test_split\n",
    "from sklearn.preprocessing import LabelEncoder\n",
    "from sklearn.metrics import classification_report\n",
    "from sklearn.preprocessing import StandardScaler\n",
    "import nltk\n",
    "import re\n",
    "from tqdm import tqdm"
   ]
  },
  {
   "cell_type": "code",
   "execution_count": 17,
   "metadata": {},
   "outputs": [],
   "source": [
    "MAX_VOCAB_SIZE = 10000\n",
    "MAX_SEQ_LEN = 500\n",
    "EMBEDDING_DIM = 128\n",
    "HIDDEN_DIM = 128\n",
    "BATCH_SIZE = 32\n",
    "NUM_EPOCHS = 20\n",
    "DEVICE = torch.device('mps') #cpu"
   ]
  },
  {
   "cell_type": "code",
   "execution_count": null,
   "metadata": {},
   "outputs": [],
   "source": []
  },
  {
   "cell_type": "code",
   "execution_count": 54,
   "metadata": {},
   "outputs": [],
   "source": [
    "train_df = pd.read_csv('train_df.csv')\n",
    "test_df = pd.read_csv('test_df.csv')\n",
    "df = pd.read_csv('cleaned_spotify_songs_v2.csv')"
   ]
  },
  {
   "cell_type": "code",
   "execution_count": 55,
   "metadata": {},
   "outputs": [],
   "source": [
    "import torch\n",
    "from torchtext.vocab import build_vocab_from_iterator\n",
    "from torch.nn.utils.rnn import pad_sequence\n",
    "from torch.utils.data import Dataset, DataLoader\n",
    "import re\n",
    "def tokenize(text):\n",
    "    text = text.lower()\n",
    "    text = re.sub(r\"[^\\w\\s]\", \"\", text)\n",
    "    return text.split()\n",
    "\n",
    "def build_vocab(texts, max_vocab_size=MAX_VOCAB_SIZE):\n",
    "    counter = Counter()\n",
    "    for text in texts:\n",
    "        counter.update(tokenize(text))\n",
    "    vocab = {\"<PAD>\": 0, \"<UNK>\": 1}\n",
    "    for idx, (word, _) in enumerate(counter.most_common(max_vocab_size - 2), start=2):\n",
    "        vocab[word] = idx\n",
    "    return vocab\n",
    "\n",
    "def encode(text, vocab):\n",
    "    return [vocab.get(token, vocab[\"<UNK>\"]) for token in tokenize(text)]"
   ]
  },
  {
   "cell_type": "code",
   "execution_count": 56,
   "metadata": {},
   "outputs": [],
   "source": [
    "class SongDataset(Dataset):\n",
    "    def __init__(self, df, vocab, continuous_cols,categorical_cols):\n",
    "        self.lyrics = [encode(text, vocab)[:MAX_SEQ_LEN] for text in df[\"lyrics\"]]\n",
    "\n",
    "        self.audio_continuous = df[continuous_cols].values.astype(np.float32)\n",
    "        self.scaler = StandardScaler()\n",
    "        self.audio_continuous = self.scaler.fit_transform(self.audio_continuous)\n",
    "\n",
    "        self.audio_categorical = df[categorical_cols].values.astype(np.float32)\n",
    "\n",
    "        self.audio = np.concatenate([self.audio_continuous, self.audio_categorical], axis=1)\n",
    "        self.labels = df[\"label\"].values\n",
    "\n",
    "    def __len__(self):\n",
    "        return len(self.labels)\n",
    "\n",
    "    def __getitem__(self, idx):\n",
    "        lyric_tensor = torch.LongTensor(self.lyrics[idx])\n",
    "        audio_tensor = torch.FloatTensor(self.audio[idx])\n",
    "        label_tensor = torch.LongTensor([self.labels[idx]])\n",
    "        return lyric_tensor, audio_tensor, label_tensor\n",
    "\n",
    "def collate_fn(batch):\n",
    "    lyrics, audios, labels = zip(*batch)\n",
    "    lyrics_padded = nn.utils.rnn.pad_sequence(lyrics, batch_first=True, padding_value=0)\n",
    "    return lyrics_padded, torch.stack(audios), torch.cat(labels)"
   ]
  },
  {
   "cell_type": "code",
   "execution_count": 57,
   "metadata": {},
   "outputs": [
    {
     "name": "stdout",
     "output_type": "stream",
     "text": [
      "['edm' 'latin' 'pop' 'r&b' 'rap' 'rock']\n"
     ]
    }
   ],
   "source": [
    "label_encoder = LabelEncoder()\n",
    "df[\"label\"] = label_encoder.fit_transform(df['playlist_genre'])\n",
    "print(label_encoder.classes_)\n",
    "train_df[\"label\"] = label_encoder.fit_transform(train_df[\"playlist_genre\"])\n",
    "test_df[\"label\"] = label_encoder.fit_transform(test_df[\"playlist_genre\"])\n",
    "num_classes = len(label_encoder.classes_)"
   ]
  },
  {
   "cell_type": "code",
   "execution_count": 58,
   "metadata": {},
   "outputs": [],
   "source": [
    "def prepare_data(df, train_val_df, test_df, vocab, continuous_cols,categorical_cols, test_size=0.2, val_size=0.1):\n",
    "    df = df.copy()\n",
    "    num_classes = len(label_encoder.classes_)\n",
    "\n",
    "    train_df, val_df = train_test_split(train_val_df, test_size=val_size, stratify=train_val_df[\"label\"], random_state=42)\n",
    "\n",
    "    train_dataset = SongDataset(train_df, vocab, continuous_cols,categorical_cols)\n",
    "    val_dataset = SongDataset(val_df, vocab, continuous_cols,categorical_cols)\n",
    "    test_dataset = SongDataset(test_df, vocab, continuous_cols,categorical_cols)\n",
    "\n",
    "    train_loader = DataLoader(train_dataset, batch_size=BATCH_SIZE, shuffle=True, collate_fn=collate_fn)\n",
    "    val_loader = DataLoader(val_dataset, batch_size=BATCH_SIZE, shuffle=False, collate_fn=collate_fn)\n",
    "    test_loader = DataLoader(test_dataset, batch_size=BATCH_SIZE, shuffle=False, collate_fn=collate_fn)\n",
    "\n",
    "    audio_feat_dim = len(continuous_cols)+len(categorical_cols)\n",
    "\n",
    "    return train_loader, val_loader, test_loader, num_classes, label_encoder,audio_feat_dim\n"
   ]
  },
  {
   "cell_type": "code",
   "execution_count": 59,
   "metadata": {},
   "outputs": [],
   "source": [
    "continuous_cols = df.select_dtypes(include=['float64', 'int64']).columns.tolist()\n",
    "continuous_cols = continuous_cols[:-1]\n",
    "categorical_cols = df.select_dtypes(include=['bool']).columns.tolist()\n",
    "\n",
    "\n",
    "vocab = build_vocab(df[\"lyrics\"])\n",
    "train_loader, val_loader, test_loader, num_classes, label_encoder,audio_feat_dim = prepare_data(df, train_df, test_df, vocab, continuous_cols,categorical_cols)"
   ]
  },
  {
   "cell_type": "code",
   "execution_count": 60,
   "metadata": {},
   "outputs": [
    {
     "name": "stdout",
     "output_type": "stream",
     "text": [
      "['danceability', 'energy', 'loudness', 'speechiness', 'instrumentalness', 'duration_ms']\n"
     ]
    }
   ],
   "source": [
    "print(continuous_cols)"
   ]
  },
  {
   "cell_type": "markdown",
   "metadata": {},
   "source": [
    "### Model 1: AttentionBiLSTM"
   ]
  },
  {
   "cell_type": "code",
   "execution_count": 61,
   "metadata": {},
   "outputs": [],
   "source": [
    "class AttentionBiLSTM(nn.Module):\n",
    "    def __init__(self, vocab_size, embedding_dim, hidden_dim, num_classes, num_features):\n",
    "        super().__init__()\n",
    "        self.embedding = nn.Embedding(vocab_size, embedding_dim)\n",
    "        self.lstm = nn.LSTM(embedding_dim, hidden_dim, bidirectional=True)\n",
    "        self.dropout = nn.Dropout(0.5)\n",
    "\n",
    "        # Attention\n",
    "        self.attn_linear = nn.Linear(hidden_dim * 2, 1)\n",
    "\n",
    "        self.feature_linear = nn.Sequential(\n",
    "            nn.Linear( num_features , hidden_dim),\n",
    "            nn.Dropout(0.3),\n",
    "            nn.ReLU()\n",
    "        )\n",
    "        \n",
    "        self.classifier = nn.Sequential(\n",
    "            nn.Linear(hidden_dim * 3, 128),\n",
    "            nn.Dropout(0.3),\n",
    "            nn.ReLU(),\n",
    "            nn.Linear(128, num_classes)\n",
    "        )\n",
    "\n",
    "    def forward(self, lyrics, numerical):\n",
    "        embed = self.embedding(lyrics)\n",
    "        lstm_out, _ = self.lstm(embed)\n",
    "        lstm_out = self.dropout(lstm_out)\n",
    "        attn_weights = torch.softmax(self.attn_linear(lstm_out), dim=1)\n",
    "        attn_output = torch.sum(attn_weights * lstm_out, dim=1)\n",
    "        numerical_output = self.feature_linear(numerical)\n",
    "        combined = torch.cat([attn_output, numerical_output], dim=1)\n",
    "        out = self.classifier(combined)\n",
    "        return out"
   ]
  },
  {
   "cell_type": "code",
   "execution_count": 62,
   "metadata": {},
   "outputs": [],
   "source": [
    "device = torch.device('mps')"
   ]
  },
  {
   "cell_type": "code",
   "execution_count": 63,
   "metadata": {},
   "outputs": [],
   "source": [
    "model = AttentionBiLSTM(\n",
    "    vocab_size=10000,\n",
    "    embedding_dim=128,\n",
    "    hidden_dim=128,\n",
    "    num_classes=len(label_encoder.classes_),\n",
    "    num_features=11\n",
    ").to(device)"
   ]
  },
  {
   "cell_type": "code",
   "execution_count": 64,
   "metadata": {},
   "outputs": [
    {
     "name": "stdout",
     "output_type": "stream",
     "text": [
      "1596039\n"
     ]
    }
   ],
   "source": [
    "print(sum(p.numel() for p in model.parameters() if p.requires_grad))"
   ]
  },
  {
   "cell_type": "code",
   "execution_count": 65,
   "metadata": {},
   "outputs": [
    {
     "name": "stdout",
     "output_type": "stream",
     "text": [
      "AttentionBiLSTM(\n",
      "  (embedding): Embedding(10000, 128)\n",
      "  (lstm): LSTM(128, 128, bidirectional=True)\n",
      "  (dropout): Dropout(p=0.5, inplace=False)\n",
      "  (attn_linear): Linear(in_features=256, out_features=1, bias=True)\n",
      "  (feature_linear): Sequential(\n",
      "    (0): Linear(in_features=11, out_features=128, bias=True)\n",
      "    (1): Dropout(p=0.3, inplace=False)\n",
      "    (2): ReLU()\n",
      "  )\n",
      "  (classifier): Sequential(\n",
      "    (0): Linear(in_features=384, out_features=128, bias=True)\n",
      "    (1): Dropout(p=0.3, inplace=False)\n",
      "    (2): ReLU()\n",
      "    (3): Linear(in_features=128, out_features=6, bias=True)\n",
      "  )\n",
      ")\n"
     ]
    }
   ],
   "source": [
    "print(model)"
   ]
  },
  {
   "cell_type": "code",
   "execution_count": 66,
   "metadata": {},
   "outputs": [],
   "source": [
    "criterion = nn.CrossEntropyLoss()\n",
    "optimizer = torch.optim.AdamW(model.parameters(), lr=1e-3)"
   ]
  },
  {
   "cell_type": "code",
   "execution_count": 67,
   "metadata": {},
   "outputs": [],
   "source": [
    "model.zero_grad()"
   ]
  },
  {
   "cell_type": "code",
   "execution_count": 68,
   "metadata": {},
   "outputs": [
    {
     "name": "stdout",
     "output_type": "stream",
     "text": [
      "📚 Epoch 1, Train Loss: 1.3133, Train Acc: 0.5012\n",
      "🧪 Validation Loss: 1.1836, Validation Acc: 0.5591\n",
      "✅ Best model saved.\n",
      "📚 Epoch 2, Train Loss: 1.1617, Train Acc: 0.5687\n",
      "🧪 Validation Loss: 1.1770, Validation Acc: 0.5583\n",
      "✅ Best model saved.\n",
      "📚 Epoch 3, Train Loss: 1.0786, Train Acc: 0.6043\n",
      "🧪 Validation Loss: 1.1077, Validation Acc: 0.5895\n",
      "✅ Best model saved.\n",
      "📚 Epoch 4, Train Loss: 1.0016, Train Acc: 0.6334\n",
      "🧪 Validation Loss: 1.0831, Validation Acc: 0.6008\n",
      "✅ Best model saved.\n",
      "📚 Epoch 5, Train Loss: 0.9180, Train Acc: 0.6654\n",
      "🧪 Validation Loss: 1.0632, Validation Acc: 0.6068\n",
      "✅ Best model saved.\n",
      "📚 Epoch 6, Train Loss: 0.8386, Train Acc: 0.6956\n",
      "🧪 Validation Loss: 1.0541, Validation Acc: 0.6071\n",
      "✅ Best model saved.\n",
      "📚 Epoch 7, Train Loss: 0.7587, Train Acc: 0.7235\n",
      "🧪 Validation Loss: 1.0881, Validation Acc: 0.5983\n",
      "📚 Epoch 8, Train Loss: 0.6869, Train Acc: 0.7508\n",
      "🧪 Validation Loss: 1.0883, Validation Acc: 0.5953\n",
      "📚 Epoch 9, Train Loss: 0.6202, Train Acc: 0.7739\n",
      "🧪 Validation Loss: 1.0672, Validation Acc: 0.6132\n",
      "📚 Epoch 10, Train Loss: 0.5599, Train Acc: 0.7961\n",
      "🧪 Validation Loss: 1.1363, Validation Acc: 0.5900\n",
      "⏹️ Early stopping triggered.\n"
     ]
    }
   ],
   "source": [
    "best_loss = float('inf')\n",
    "patience = 4\n",
    "counter = 0\n",
    "\n",
    "for epoch in range(60):\n",
    "    model.train()\n",
    "    total_loss = 0\n",
    "    correct = 0\n",
    "    total = 0\n",
    "\n",
    "    for lyrics_batch, num_batch, label_batch in train_loader:\n",
    "        lyrics_batch, num_batch, label_batch = (\n",
    "            lyrics_batch.to(device),\n",
    "            num_batch.to(device).float(),\n",
    "            label_batch.to(device)\n",
    "        )\n",
    "\n",
    "        optimizer.zero_grad()\n",
    "        output = model(lyrics_batch, num_batch)\n",
    "        loss = criterion(output, label_batch)\n",
    "        loss.backward()\n",
    "        optimizer.step()\n",
    "\n",
    "        total_loss += loss.item()\n",
    "        preds = torch.argmax(output, dim=1)\n",
    "        correct += (preds == label_batch).sum().item()\n",
    "        total += label_batch.size(0)\n",
    "\n",
    "    avg_loss = total_loss / len(train_loader)\n",
    "    train_acc = correct / total\n",
    "    print(f\"📚 Epoch {epoch+1}, Train Loss: {avg_loss:.4f}, Train Acc: {train_acc:.4f}\")\n",
    "\n",
    "    # Validation\n",
    "    model.eval()\n",
    "    val_loss = 0\n",
    "    val_correct = 0\n",
    "    val_total = 0\n",
    "    with torch.no_grad():\n",
    "        for lyrics_batch, num_batch, label_batch in test_loader:\n",
    "            lyrics_batch, num_batch, label_batch = (\n",
    "                lyrics_batch.to(device),\n",
    "                num_batch.to(device).float(),\n",
    "                label_batch.to(device)\n",
    "            )\n",
    "\n",
    "            output = model(lyrics_batch, num_batch)\n",
    "            loss = criterion(output, label_batch)\n",
    "            val_loss += loss.item()\n",
    "\n",
    "            preds = torch.argmax(output, dim=1)\n",
    "            val_correct += (preds == label_batch).sum().item()\n",
    "            val_total += label_batch.size(0)\n",
    "\n",
    "    avg_val_loss = val_loss / len(test_loader)\n",
    "    val_acc = val_correct / val_total\n",
    "    print(f\"🧪 Validation Loss: {avg_val_loss:.4f}, Validation Acc: {val_acc:.4f}\")\n",
    "\n",
    "    # Early stopping\n",
    "    if avg_val_loss < best_loss:\n",
    "        best_loss = avg_val_loss\n",
    "        counter = 0\n",
    "        torch.save(model.state_dict(), \"best_model.pt\")\n",
    "        print(\"✅ Best model saved.\")\n",
    "    else:\n",
    "        counter += 1\n",
    "        if counter >= patience:\n",
    "            print(\"⏹️ Early stopping triggered.\")\n",
    "            break"
   ]
  },
  {
   "cell_type": "code",
   "execution_count": null,
   "metadata": {},
   "outputs": [
    {
     "name": "stdout",
     "output_type": "stream",
     "text": [
      "\n",
      "🎯 Classification Report:\n",
      "              precision    recall  f1-score   support\n",
      "\n",
      "         edm       0.51      0.56      0.53       383\n",
      "       latin       0.77      0.58      0.66       421\n",
      "         pop       0.51      0.42      0.46       819\n",
      "         r&b       0.58      0.56      0.57       657\n",
      "         rap       0.79      0.67      0.73       687\n",
      "        rock       0.57      0.86      0.68       660\n",
      "\n",
      "    accuracy                           0.61      3627\n",
      "   macro avg       0.62      0.61      0.61      3627\n",
      "weighted avg       0.62      0.61      0.60      3627\n",
      "\n"
     ]
    }
   ],
   "source": [
    "model.load_state_dict(torch.load(\"best_model.pt\"))\n",
    "model.eval()\n",
    "\n",
    "all_preds = []\n",
    "all_labels = []\n",
    "\n",
    "with torch.no_grad():\n",
    "    for lyrics_batch, num_batch, label_batch in test_loader:\n",
    "        lyrics_batch, num_batch = lyrics_batch.to(device), num_batch.to(device)\n",
    "        inputs = (lyrics_batch, num_batch)\n",
    "        output = model(lyrics_batch, num_batch)\n",
    "        preds = torch.argmax(output, dim=1).cpu().numpy()\n",
    "        all_preds.extend(preds)\n",
    "        all_labels.extend(label_batch.cpu().numpy())\n",
    "\n",
    "# pd.DataFrame(all_preds).to_csv(\"BiLSTM_pred.csv\")\n",
    "\n",
    "print(\"\\n🎯 Classification Report:\")\n",
    "print(classification_report(all_labels, all_preds, target_names=label_encoder.classes_))"
   ]
  },
  {
   "cell_type": "code",
   "execution_count": 72,
   "metadata": {},
   "outputs": [],
   "source": [
    "genre_preds = label_encoder.classes_[all_preds]"
   ]
  },
  {
   "cell_type": "code",
   "execution_count": 73,
   "metadata": {},
   "outputs": [],
   "source": [
    "pd.DataFrame(genre_preds).to_csv('BiLSTM.csv')"
   ]
  },
  {
   "cell_type": "code",
   "execution_count": 74,
   "metadata": {},
   "outputs": [
    {
     "data": {
      "image/png": "[encoded data removed]",
      "text/plain": [
       "<Figure size 800x600 with 2 Axes>"
      ]
     },
     "metadata": {},
     "output_type": "display_data"
    }
   ],
   "source": [
    "from sklearn.metrics import confusion_matrix\n",
    "import seaborn as sns\n",
    "import matplotlib.pyplot as plt\n",
    "import pandas as pd\n",
    "\n",
    "# Compute confusion matrix\n",
    "cm = confusion_matrix(all_labels, all_preds)\n",
    "\n",
    "# Create a DataFrame for better labeling\n",
    "cm_df = pd.DataFrame(cm, index=label_encoder.classes_, columns=label_encoder.classes_)\n",
    "\n",
    "# Plot heatmap\n",
    "plt.figure(figsize=(8, 6))\n",
    "sns.heatmap(cm_df, annot=True, fmt=\"d\", cmap=\"Blues\", linewidths=0.5)\n",
    "plt.title(\"Attention BiLSTM Confusion Matrix (Lyrics + Audio Features)\")\n",
    "plt.ylabel(\"Actual\")\n",
    "plt.xlabel(\"Predicted\")\n",
    "plt.tight_layout()\n",
    "plt.show()"
   ]
  },
  {
   "cell_type": "markdown",
   "metadata": {},
   "source": [
    "### 2. Only lyrics"
   ]
  },
  {
   "cell_type": "code",
   "execution_count": 75,
   "metadata": {},
   "outputs": [],
   "source": [
    "class SongDataset(Dataset):\n",
    "    def __init__(self, df, vocab):\n",
    "        self.lyrics = [encode(text, vocab)[:MAX_SEQ_LEN] for text in df[\"lyrics\"]]\n",
    "\n",
    "        self.scaler = StandardScaler()\n",
    "        self.labels = df[\"label\"].values\n",
    "\n",
    "    def __len__(self):\n",
    "        return len(self.labels)\n",
    "\n",
    "    def __getitem__(self, idx):\n",
    "        lyric_tensor = torch.LongTensor(self.lyrics[idx])\n",
    "        label_tensor = torch.LongTensor([self.labels[idx]])\n",
    "        return lyric_tensor, label_tensor\n",
    "\n",
    "def collate_fn(batch):\n",
    "    lyrics, labels = zip(*batch)\n",
    "    lyrics_padded = nn.utils.rnn.pad_sequence(lyrics, batch_first=True, padding_value=0)\n",
    "    return lyrics_padded, torch.cat(labels)"
   ]
  },
  {
   "cell_type": "code",
   "execution_count": 76,
   "metadata": {},
   "outputs": [],
   "source": [
    "def prepare_data(df, vocab, test_size=0.2, val_size=0.1):\n",
    "    df = df.copy()\n",
    "    label_encoder = LabelEncoder()\n",
    "    df[\"label\"] = label_encoder.fit_transform(df[\"playlist_genre\"])\n",
    "    num_classes = len(label_encoder.classes_)\n",
    "\n",
    "    train_val_df, test_df = train_test_split(df, test_size=test_size, stratify=df[\"label\"], random_state=42)\n",
    "    train_df, val_df = train_test_split(train_val_df, test_size=val_size, stratify=train_val_df[\"label\"], random_state=42)\n",
    "\n",
    "    train_dataset = SongDataset(train_df, vocab)\n",
    "    val_dataset = SongDataset(val_df, vocab)\n",
    "    test_dataset = SongDataset(test_df, vocab)\n",
    "\n",
    "    train_loader = DataLoader(train_dataset, batch_size=BATCH_SIZE, shuffle=True, collate_fn=collate_fn)\n",
    "    val_loader = DataLoader(val_dataset, batch_size=BATCH_SIZE, shuffle=False, collate_fn=collate_fn)\n",
    "    test_loader = DataLoader(test_dataset, batch_size=BATCH_SIZE, shuffle=False, collate_fn=collate_fn)\n",
    "\n",
    "    return train_loader, val_loader, test_loader, num_classes, label_encoder"
   ]
  },
  {
   "cell_type": "code",
   "execution_count": 115,
   "metadata": {},
   "outputs": [],
   "source": [
    "class AttentionBiLSTM(nn.Module):\n",
    "    def __init__(self, vocab_size, embedding_dim, hidden_dim, num_classes):\n",
    "        super().__init__()\n",
    "        self.embedding = nn.Embedding(vocab_size, embedding_dim)\n",
    "        self.lstm = nn.LSTM(embedding_dim, hidden_dim, bidirectional=True)\n",
    "        self.dropout = nn.Dropout(0.5)\n",
    "\n",
    "        # Attention\n",
    "        self.attn_linear = nn.Linear(hidden_dim * 2, 1)\n",
    "\n",
    "        # Final classifier with numerical features\n",
    "        self.classifier = nn.Sequential(\n",
    "            nn.Linear(hidden_dim*2, 128),\n",
    "            nn.Dropout(0.3),\n",
    "            nn.ReLU(),\n",
    "            nn.Linear(128, num_classes)\n",
    "        )\n",
    "\n",
    "    def forward(self, lyrics):\n",
    "        embed = self.embedding(lyrics)\n",
    "        lstm_out, _ = self.lstm(embed)\n",
    "        attn_weights = torch.softmax(self.attn_linear(lstm_out), dim=1)\n",
    "        attn_output = torch.sum(attn_weights * lstm_out, dim=1)\n",
    "        out = self.classifier(attn_output)\n",
    "        return out"
   ]
  },
  {
   "cell_type": "code",
   "execution_count": 116,
   "metadata": {},
   "outputs": [],
   "source": [
    "model = AttentionBiLSTM(\n",
    "    vocab_size=10000,\n",
    "    embedding_dim=128,\n",
    "    hidden_dim=128,\n",
    "    num_classes=len(label_encoder.classes_)\n",
    ").to(device)"
   ]
  },
  {
   "cell_type": "code",
   "execution_count": 117,
   "metadata": {},
   "outputs": [
    {
     "name": "stdout",
     "output_type": "stream",
     "text": [
      "1578119\n"
     ]
    }
   ],
   "source": [
    "print(sum(p.numel() for p in model.parameters() if p.requires_grad))"
   ]
  },
  {
   "cell_type": "code",
   "execution_count": 118,
   "metadata": {},
   "outputs": [
    {
     "name": "stdout",
     "output_type": "stream",
     "text": [
      "AttentionBiLSTM(\n",
      "  (embedding): Embedding(10000, 128)\n",
      "  (lstm): LSTM(128, 128, bidirectional=True)\n",
      "  (dropout): Dropout(p=0.5, inplace=False)\n",
      "  (attn_linear): Linear(in_features=256, out_features=1, bias=True)\n",
      "  (classifier): Sequential(\n",
      "    (0): Linear(in_features=256, out_features=128, bias=True)\n",
      "    (1): Dropout(p=0.3, inplace=False)\n",
      "    (2): ReLU()\n",
      "    (3): Linear(in_features=128, out_features=6, bias=True)\n",
      "  )\n",
      ")\n"
     ]
    }
   ],
   "source": [
    "print(model)"
   ]
  },
  {
   "cell_type": "code",
   "execution_count": 119,
   "metadata": {},
   "outputs": [],
   "source": [
    "vocab = build_vocab(df[\"lyrics\"])\n",
    "train_loader, val_loader, test_loader, num_classes, label_encoder = prepare_data(df, vocab)"
   ]
  },
  {
   "cell_type": "code",
   "execution_count": 120,
   "metadata": {},
   "outputs": [],
   "source": [
    "criterion = nn.CrossEntropyLoss()\n",
    "optimizer = torch.optim.AdamW(model.parameters(), lr=1e-3)"
   ]
  },
  {
   "cell_type": "code",
   "execution_count": 121,
   "metadata": {},
   "outputs": [
    {
     "name": "stdout",
     "output_type": "stream",
     "text": [
      "📚 Epoch 1, Train Loss: 1.5160, Train Acc: 0.3858\n",
      "🧪 Validation Loss: 1.4204, Validation Acc: 0.4368\n",
      "✅ Best model saved.\n",
      "📚 Epoch 2, Train Loss: 1.3596, Train Acc: 0.4703\n",
      "🧪 Validation Loss: 1.3470, Validation Acc: 0.4902\n",
      "✅ Best model saved.\n",
      "📚 Epoch 3, Train Loss: 1.2716, Train Acc: 0.5157\n",
      "🧪 Validation Loss: 1.3191, Validation Acc: 0.5114\n",
      "✅ Best model saved.\n",
      "📚 Epoch 4, Train Loss: 1.1816, Train Acc: 0.5632\n",
      "🧪 Validation Loss: 1.2613, Validation Acc: 0.5357\n",
      "✅ Best model saved.\n",
      "📚 Epoch 5, Train Loss: 1.0898, Train Acc: 0.5990\n",
      "🧪 Validation Loss: 1.2461, Validation Acc: 0.5462\n",
      "✅ Best model saved.\n",
      "📚 Epoch 6, Train Loss: 1.0083, Train Acc: 0.6379\n",
      "🧪 Validation Loss: 1.2669, Validation Acc: 0.5459\n",
      "📚 Epoch 7, Train Loss: 0.9333, Train Acc: 0.6681\n",
      "🧪 Validation Loss: 1.3049, Validation Acc: 0.5329\n",
      "📚 Epoch 8, Train Loss: 0.8663, Train Acc: 0.6888\n",
      "🧪 Validation Loss: 1.3795, Validation Acc: 0.5354\n",
      "⏹️ Early stopping triggered.\n"
     ]
    }
   ],
   "source": [
    "best_loss = float('inf')\n",
    "patience = 3\n",
    "counter = 0\n",
    "\n",
    "for epoch in range(30):\n",
    "    model.train()\n",
    "    total_loss = 0\n",
    "    correct = 0\n",
    "    total = 0\n",
    "\n",
    "    for lyrics_batch, label_batch in train_loader:\n",
    "        lyrics_batch, label_batch = (\n",
    "            lyrics_batch.to(device),\n",
    "            label_batch.to(device)\n",
    "        )\n",
    "\n",
    "        optimizer.zero_grad()\n",
    "        output = model(lyrics_batch)\n",
    "        loss = criterion(output, label_batch)\n",
    "        loss.backward()\n",
    "        optimizer.step()\n",
    "\n",
    "        total_loss += loss.item()\n",
    "        preds = torch.argmax(output, dim=1)\n",
    "        correct += (preds == label_batch).sum().item()\n",
    "        total += label_batch.size(0)\n",
    "\n",
    "    avg_loss = total_loss / len(train_loader)\n",
    "    train_acc = correct / total\n",
    "    print(f\"📚 Epoch {epoch+1}, Train Loss: {avg_loss:.4f}, Train Acc: {train_acc:.4f}\")\n",
    "\n",
    "    # Validation\n",
    "    model.eval()\n",
    "    val_loss = 0\n",
    "    val_correct = 0\n",
    "    val_total = 0\n",
    "    with torch.no_grad():\n",
    "        for lyrics_batch, label_batch in test_loader:\n",
    "            lyrics_batch, label_batch = (\n",
    "                lyrics_batch.to(device),\n",
    "                label_batch.to(device)\n",
    "            )\n",
    "\n",
    "            output = model(lyrics_batch)\n",
    "            loss = criterion(output, label_batch)\n",
    "            val_loss += loss.item()\n",
    "\n",
    "            preds = torch.argmax(output, dim=1)\n",
    "            val_correct += (preds == label_batch).sum().item()\n",
    "            val_total += label_batch.size(0)\n",
    "\n",
    "    avg_val_loss = val_loss / len(test_loader)\n",
    "    val_acc = val_correct / val_total\n",
    "    print(f\"🧪 Validation Loss: {avg_val_loss:.4f}, Validation Acc: {val_acc:.4f}\")\n",
    "\n",
    "    # Early stopping\n",
    "    if avg_val_loss < best_loss:\n",
    "        best_loss = avg_val_loss\n",
    "        counter = 0\n",
    "        torch.save(model.state_dict(), \"best_model_only_lyrics.pt\")\n",
    "        print(\"✅ Best model saved.\")\n",
    "    \n",
    "    else:\n",
    "        counter += 1\n",
    "        if counter >= patience:\n",
    "            print(\"⏹️ Early stopping triggered.\")\n",
    "            break"
   ]
  },
  {
   "cell_type": "code",
   "execution_count": 122,
   "metadata": {},
   "outputs": [
    {
     "name": "stdout",
     "output_type": "stream",
     "text": [
      "\n",
      "🎯 Classification Report:\n",
      "              precision    recall  f1-score   support\n",
      "\n",
      "         edm       0.51      0.27      0.35       382\n",
      "       latin       0.71      0.57      0.64       427\n",
      "         pop       0.42      0.51      0.46       791\n",
      "         r&b       0.48      0.44      0.46       661\n",
      "         rap       0.70      0.72      0.71       666\n",
      "        rock       0.55      0.65      0.60       702\n",
      "\n",
      "    accuracy                           0.55      3629\n",
      "   macro avg       0.56      0.53      0.54      3629\n",
      "weighted avg       0.55      0.55      0.54      3629\n",
      "\n"
     ]
    }
   ],
   "source": [
    "model.load_state_dict(torch.load(\"best_model_only_lyrics.pt\"))\n",
    "model.eval()\n",
    "\n",
    "all_preds = []\n",
    "all_labels = []\n",
    "\n",
    "with torch.no_grad():\n",
    "    for lyrics_batch, label_batch in test_loader:\n",
    "        lyrics_batch = lyrics_batch.to(device)\n",
    "        inputs = lyrics_batch\n",
    "        output = model(lyrics_batch)\n",
    "        preds = torch.argmax(output, dim=1).cpu().numpy()\n",
    "        all_preds.extend(preds)\n",
    "        all_labels.extend(label_batch.cpu().numpy())\n",
    "\n",
    "print(\"\\n🎯 Classification Report:\")\n",
    "print(classification_report(all_labels, all_preds, target_names=label_encoder.classes_))"
   ]
  },
  {
   "cell_type": "code",
   "execution_count": 123,
   "metadata": {},
   "outputs": [
    {
     "data": {
      "image/png": "[encoded data removed]",
      "text/plain": [
       "<Figure size 800x600 with 2 Axes>"
      ]
     },
     "metadata": {},
     "output_type": "display_data"
    }
   ],
   "source": [
    "from sklearn.metrics import confusion_matrix\n",
    "import seaborn as sns\n",
    "import matplotlib.pyplot as plt\n",
    "import pandas as pd\n",
    "\n",
    "# Compute confusion matrix\n",
    "cm = confusion_matrix(all_labels, all_preds)\n",
    "\n",
    "# Create a DataFrame for better labeling\n",
    "cm_df = pd.DataFrame(cm, index=label_encoder.classes_, columns=label_encoder.classes_)\n",
    "\n",
    "# Plot heatmap\n",
    "plt.figure(figsize=(8, 6))\n",
    "sns.heatmap(cm_df, annot=True, fmt=\"d\", cmap=\"Blues\", linewidths=0.5)\n",
    "plt.title(\"Attention BiLSTM (only Lyrics) Confusion Matrix Heatmap\")\n",
    "plt.ylabel(\"Actual\")\n",
    "plt.xlabel(\"Predicted\")\n",
    "plt.tight_layout()\n",
    "plt.show()"
   ]
  },
  {
   "cell_type": "code",
   "execution_count": null,
   "metadata": {},
   "outputs": [],
   "source": []
  }
 ],
 "metadata": {
  "kernelspec": {
   "display_name": "deeplearn_course",
   "language": "python",
   "name": "python3"
  },
  "language_info": {
   "codemirror_mode": {
    "name": "ipython",
    "version": 3
   },
   "file_extension": ".py",
   "mimetype": "text/x-python",
   "name": "python",
   "nbconvert_exporter": "python",
   "pygments_lexer": "ipython3",
   "version": "3.8.20"
  }
 },
 "nbformat": 4,
 "nbformat_minor": 2
}
